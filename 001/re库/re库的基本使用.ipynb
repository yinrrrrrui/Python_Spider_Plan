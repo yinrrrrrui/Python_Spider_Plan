{
 "cells": [
  {
   "cell_type": "code",
   "execution_count": 1,
   "metadata": {},
   "outputs": [],
   "source": [
    "import re"
   ]
  },
  {
   "cell_type": "code",
   "execution_count": 3,
   "metadata": {},
   "outputs": [
    {
     "name": "stdout",
     "output_type": "stream",
     "text": [
      "100086\n"
     ]
    }
   ],
   "source": [
    "#group()  同 group(0) 就是匹配正则表达式整体结果\n",
    "#group(1) 列出第一个括号匹配部分，group(2) 列出第二个括号匹配部分，group(3) 列出第三个括号匹配部分。\n",
    "match = re.search(r'[1-9]\\d{5}',\"BIT 100086\")\n",
    "if match:\n",
    "    print(match.group(0))"
   ]
  },
  {
   "cell_type": "code",
   "execution_count": 4,
   "metadata": {},
   "outputs": [
    {
     "name": "stdout",
     "output_type": "stream",
     "text": [
      "None\n"
     ]
    }
   ],
   "source": [
    "#match函数只能从字符的起始位置开始匹配\n",
    "match = re.match(r'[1-9]\\d{5}',\"BIT 100086\")\n",
    "#注意使用的时候一定要用if语句进行判断\n",
    "if match:\n",
    "    print(match.group(0))\n",
    "else:\n",
    "    print('None')"
   ]
  },
  {
   "cell_type": "code",
   "execution_count": 5,
   "metadata": {},
   "outputs": [
    {
     "name": "stdout",
     "output_type": "stream",
     "text": [
      "100086\n"
     ]
    }
   ],
   "source": [
    "#match函数只能从字符的起始位置开始匹配\n",
    "match = re.match(r'[1-9]\\d{5}',\"100086 BIT\")\n",
    "#注意使用的时候一定要用if语句进行判断\n",
    "if match:\n",
    "    print(match.group(0))\n",
    "else:\n",
    "    print('None')"
   ]
  },
  {
   "cell_type": "code",
   "execution_count": 7,
   "metadata": {},
   "outputs": [
    {
     "name": "stdout",
     "output_type": "stream",
     "text": [
      "['100086', '100030']\n"
     ]
    }
   ],
   "source": [
    "#findall函数只能从字符将所有匹配类型全部输出\n",
    "#注意多的一位并不会匹配1000300处\n",
    "ls = re.findall(r'[1-9]\\d{5}',\"BIT 100086, UESTC 1000300\")\n",
    "#注意使用的时候一定要用if语句进行判断\n",
    "if match:\n",
    "    print(ls)      \n",
    "else:\n",
    "    print('None')"
   ]
  },
  {
   "cell_type": "code",
   "execution_count": 8,
   "metadata": {},
   "outputs": [
    {
     "data": {
      "text/plain": [
       "['BIT ', ', UESTC ', '0']"
      ]
     },
     "execution_count": 8,
     "metadata": {},
     "output_type": "execute_result"
    }
   ],
   "source": [
    "#分割函数\n",
    "#相当于从匹配处切断\n",
    "re.split(r'[1-9]\\d{5}',\"BIT 100086, UESTC 1000300\")"
   ]
  },
  {
   "cell_type": "code",
   "execution_count": 9,
   "metadata": {},
   "outputs": [
    {
     "data": {
      "text/plain": [
       "['BIT ', ', UESTC 1000300']"
      ]
     },
     "execution_count": 9,
     "metadata": {},
     "output_type": "execute_result"
    }
   ],
   "source": [
    "#分割函数，添加masplit参数\n",
    "re.split(r'[1-9]\\d{5}',\"BIT 100086, UESTC 1000300\",maxsplit=1)"
   ]
  },
  {
   "cell_type": "code",
   "execution_count": 16,
   "metadata": {},
   "outputs": [
    {
     "name": "stdout",
     "output_type": "stream",
     "text": [
      "1 100086\n",
      "2 100030\n"
     ]
    }
   ],
   "source": [
    "#finditer可以迭代获取匹配结果，并对每一个匹配结果单独处理\n",
    "i = 0\n",
    "for m in re.finditer(r'[1-9]\\d{5}',\"BIT 100086, UESTC 1000300\"):\n",
    "    if m:\n",
    "        i += 1\n",
    "        print('{}'.format(i),m.group())"
   ]
  },
  {
   "cell_type": "code",
   "execution_count": 17,
   "metadata": {},
   "outputs": [
    {
     "data": {
      "text/plain": [
       "'BIT zipcode, UESTC zipcode0'"
      ]
     },
     "execution_count": 17,
     "metadata": {},
     "output_type": "execute_result"
    }
   ],
   "source": [
    "#sub:替换匹配字符串\n",
    "re.sub(r'[1-9]\\d{5}','zipcode',\"BIT 100086, UESTC 1000300\")"
   ]
  }
 ],
 "metadata": {
  "kernelspec": {
   "display_name": "Python 3.8.8 ('base')",
   "language": "python",
   "name": "python3"
  },
  "language_info": {
   "codemirror_mode": {
    "name": "ipython",
    "version": 3
   },
   "file_extension": ".py",
   "mimetype": "text/x-python",
   "name": "python",
   "nbconvert_exporter": "python",
   "pygments_lexer": "ipython3",
   "version": "3.8.8"
  },
  "orig_nbformat": 4,
  "vscode": {
   "interpreter": {
    "hash": "49cb93f377a7abe7414b7b0f21fb3017538004a126cf690fb524202736b7fb92"
   }
  }
 },
 "nbformat": 4,
 "nbformat_minor": 2
}
